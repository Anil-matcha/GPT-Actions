{
  "nbformat": 4,
  "nbformat_minor": 0,
  "metadata": {
    "colab": {
      "provenance": [],
      "authorship_tag": "ABX9TyNMwl6h1AgDdAsc4c4xR4dX",
      "include_colab_link": true
    },
    "kernelspec": {
      "name": "python3",
      "display_name": "Python 3"
    },
    "language_info": {
      "name": "python"
    }
  },
  "cells": [
    {
      "cell_type": "markdown",
      "metadata": {
        "id": "view-in-github",
        "colab_type": "text"
      },
      "source": [
        "<a href=\"https://colab.research.google.com/github/Anil-matcha/openai-functions/blob/main/Langchain_extraction.ipynb\" target=\"_parent\"><img src=\"https://colab.research.google.com/assets/colab-badge.svg\" alt=\"Open In Colab\"/></a>"
      ]
    },
    {
      "cell_type": "code",
      "source": [
        "!pip install langchain playwright openai\n",
        "!playwright install"
      ],
      "metadata": {
        "id": "cHnm8vVQ9eq8"
      },
      "execution_count": null,
      "outputs": []
    },
    {
      "cell_type": "code",
      "execution_count": 15,
      "metadata": {
        "colab": {
          "base_uri": "https://localhost:8080/"
        },
        "id": "gYRWLwNI9ZUu",
        "outputId": "cdc79bf7-1f50-4749-8cfd-b808062b10d0"
      },
      "outputs": [
        {
          "output_type": "stream",
          "name": "stdout",
          "text": [
            "Browse software deals for your business. | AppSumoOpen menuAppSumoSubmit searchSell on AppSumoEarn money selling digital productsLog inCartSoftwareCourses & learningTemplatesCreative resourcesAskSumo  and get 10% offNever pay full price for software againSign up to get the hottest software deals sent straight to your inbox and get 10% off your first order!EmailGet 10% OffAirDeckNarrate any document or presentation, share them securely, and track their performanceAirDeck$49/lifetime$299Textmetrics SMEImprove the quality and impact of your copy with this powerful, multilingual AI writing assistantTextmetrics SME$49/lifetime$2,999HolaconHost interactive events that boost engagement with this tech-based event management platformHolacon$49/lifetime$588CollabwritingSave, annotate, and collaborate on PDFs and web pages with your team using one browser extensionCollabwriting$39/lifetime$108BingBang.aiCreate, schedule, publish, and manage your content creation with this generative AI platformBingBang.ai$39/lifetime$348SurveyAnalyticaBuild personalized surveys using custom logic and analyze data collected across channelsSurveyAnalytica$39/lifetime$500Upgrade.chatAutomate subscription management and billing through multiple channels and payment gateways via chatUpgrade.chat$49/lifetime$479PreviousNextEnding soonView allScanlistOffer ends in 3 hoursScanlistin Lead generationOn-demand contact scraper with 20+ data points and AI-powered cold message writer24 reviews$39/lifetime$228Power PersonasOffer ends in 3 hoursPower Personasin Marketing managementHelp your people understand & engage your customers. Automatically create, customize and share ICPs17 reviews$49/lifetime$432TeachifyOffer ends in a dayTeachifyin Course buildersSell courses, online coaching, digital downloads, and memberships from a single platform8 reviews$39/lifetime$600USP.ai - AI Image GeneratorOffer ends in a dayUSP.ai - AI Image Generatorin Content marketingThe only AI Image generator you will ever need31 reviews$97/lifetime$150ShortySMSOffer ends in a dayShortySMSin SMSAutomate SMS and MMS marketing campaigns to engage with customers, clients, and leads27 reviews$19/lifetime$108ShareDocView.comOffer ends in a dayShareDocView.comin Lead generationGet email leads, branding & analytics sharing document via links78 reviews$59/lifetime$120EmailBadgeOffer ends in a dayEmailBadgein Email marketingCreate simple, beautiful, and effective email signatures in under two minutes using pre-made templates45 reviews$9/lifetime$72SleekBioOffer ends in a daySleekBioin Social mediaCreate one beautiful, simple link for your social media bio that showcases everything you have to offer57 reviews$9/lifetime$72Sticker Mule Custom MagnetsOffer ends in a daySticker Mule Custom Magnetsin Stock photosDesign custom magnets that you can quickly ship worldwide28 reviews$9/lifetime$81CreatosaurusOffer ends in 2 daysCreatosaurusin Social mediaDesign, caption, hashtag, and schedule social media posts with this all-in-one marketing tool9 reviews$49/lifetime$228SUPERMACHINEOffer ends in 2 daysSUPERMACHINEin Content marketingGenerate stock photos, art, and images with the latest in AI technology263 reviews$79/lifetime$420Brain Pod AI WriterOffer ends in 3 daysBrain Pod AI Writerin Content marketingWrite thousands of SEO articles and generate unique images with one AI toolkit22 reviews$39/lifetime$360PreviousNextWhat's hotView allContextMindsContextMindsin Content marketingOrganize content ideas and AI-generated keywords on digital whiteboards43 reviews$69/lifetime$228WP CompressWP Compressin Cloud services & hostingSupercharge your site by adapting images and scripts for incoming visitors103 reviews$49/lifetime$228AlbatoAlbatoin Native app buildersBuild no-code automations between any cloud apps106 reviews$69/lifetime$192Gumlet VideoGumlet Videoin VideoUpload, optimize, and stream videos with detailed analytics in minutes34 reviews$49/lifetime$399YaaraYaarain Content marketingUse AI to generate unique, keyword-rich content for ads, emails, websites, blogs, and social media1 reviews$39/lifetime$130illowillowin PrivacyMake your website privacy compliant with a user-friendly cookie banner193 reviews$69/lifetime$468AppMySiteAppMySitein Native app buildersTurn your website into a user-friendly mobile app in minutes with an AI-powered app builder250 reviews$59/lifetime$1,404RetableRetablein ProductivityTurn your spreadsheets into smart database apps that you can securely share with your team28 reviews$49/lifetime$600GoZen Forms.AiGoZen Forms.Aiin Lead generationUse AI to build unlimited online forms, surveys, and quizzes for any use case348 reviews$69/lifetime$1,725ChatbaseOffer ends in 7 daysChatbasein Customer supportEasily build and train an intelligent chatbot powered by ChatGPT with online and offline data68 reviews$29/lifetime$100PerkZillaPerkZillain Lead generationBecome a marketing monster using targeted campaigns and automations, not paid ads36 reviews$59/lifetime$588Artsmart.aiArtsmart.aiin Content marketingCreate unique AI-generated images to level up your brand’s marketing strategy158 reviews$49/lifetime$228Tixio - Plus exclusiveTixio - Plus exclusivein Remote collaborationCreate, organize, and share information with your team from one centralized workspace13 reviews$69/lifetime$600AirDeckAirDeckin Customer onboardingNarrate any document or presentation, share them securely, and track their performance4 reviews$49/lifetime$299Textmetrics SMETextmetrics SMEin Content marketingImprove the quality and impact of your copy with this powerful, multilingual AI writing assistant52 reviews$49/lifetime$2,999RakletRakletin Community buildersLaunch your own private online community with membership fees, paid events, and more16 reviews$29/lifetime$177ZendataOffer ends in 4 daysZendatain PrivacyAutomate data security management and prevent risk across your entire stack5 reviews$39/lifetime$3,000VoilàOffer ends in 14 daysVoilàin ProductivityCreate high-quality content and boost your productivity with an AI-powered personal assistant120 reviews$29/lifetime$96Team-GPTTeam-GPTin ProductivityLearn, collaborate, and master ChatGPT in one shared workspace3 reviews$49/lifetime$120BlogAssistantBlogAssistantin Content marketingUse AI to write long-form SEO content in over 30 languages and minimize AI content flags27 reviews$59/lifetime$960PreviousNextCustomer favoritesView allRetableRetablein ProductivityTurn your spreadsheets into smart database apps that you can securely share with your team28 reviews$49/lifetime$600NeuronWriterNeuronWriterin Content marketingUse semantic recommendations to boost your SEO and plan high-ranking content574 reviews$69/lifetime$750CastmagicCastmagicin AudioStreamline your podcast production w/ AI: get shownotes, summaries, bios, key topics, quotes & more105 reviews$39/lifetime$480EzyCourseOffer ends in 6 daysEzyCoursein Course buildersCreate and sell your courses, services, products, or online communities from one platform53 reviews$49/lifetime$2,868Sticker Mule Custom MagnetsOffer ends in a daySticker Mule Custom Magnetsin Stock photosDesign custom magnets that you can quickly ship worldwide28 reviews$9/lifetime$81Reoon Email VerifierReoon Email Verifierin Email marketingThe most accurate email validation service that cleans invalid, temporary & unsafe email addresses.330 reviews$79/lifetime$418.50SwitchySwitchyin Lead generationBoost engagement and conversions with custom retargeting links218 reviews$39/lifetime$2,400Fouita Smart WidgetsFouita Smart Widgetsin Lead generationSmart widgets that generate leads, engage visitors, and drive sales on autopilot27 reviews$89/lifetime$1,317SiteGuruSiteGuruin SEOImprove and monitor your website's rankings with an actionable SEO todo-list389 reviews$69/lifetime$599MetaSurvey «Tinder-like surveys» — Plus exclusiveMetaSurvey «Tinder-like surveys» — Plus exclusivein Survey softwarePut your customers in a critic's shoes before producing your new drop – use «Tinder-like» surveys32 reviews$78/lifetime$432Eurekaa.ioEurekaa.ioin Course buildersIdeate, validate, and create a course, book, or how-to content... in record time52 reviews$139/lifetime$399No Code MBANo Code MBAin No codeIf you don't know how to code, you might feel helpless when it comes to building apps and websites. Your million-dollar business ideas are abandoned because you can't build it yourself, and you don't want to spend $10k+ on a developer to build it for you. It doesn't have to be this way! No Code MBA 45 reviews$159/lifetime$349PreviousNextPlus exclusivesView allAppSumo Plus Yearly PlanAppSumo Plus Yearly Planin ProductivityGet the Sumo-ling royal treatment with AppSumo Plus112 reviews$99$3,370Tixio - Plus exclusiveTixio - Plus exclusivein Remote collaborationCreate, organize, and share information with your team from one centralized workspace13 reviews$69/lifetime$600RTILA: Web Automation - Plus exclusiveRTILA: Web Automation - Plus exclusivein Marketing managementAutomate any task that you can do on a browser & grow your business with less human resources53 reviews$99/lifetime$1,188Sticker Mule Custom MagnetsOffer ends in a daySticker Mule Custom Magnetsin Stock photosDesign custom magnets that you can quickly ship worldwide28 reviews$9/lifetime$81MetaSurvey «Tinder-like surveys» — Plus exclusiveMetaSurvey «Tinder-like surveys» — Plus exclusivein Survey softwarePut your customers in a critic's shoes before producing your new drop – use «Tinder-like» surveys32 reviews$78/lifetime$432PubCoder - Plus exclusivePubCoder - Plus exclusivein Native app buildersEasily create interactive content for all digital platforms20 reviews$69/lifetime$3,500Bit Integrations - Plus exclusiveBit Integrations - Plus exclusivein Development toolsConnect WordPress Plugins and external applications seamlessly to save time and simplify automations58 reviews$49/lifetime$99CreatosaurusOffer ends in 2 daysCreatosaurusin Social mediaDesign, caption, hashtag, and schedule social media posts with this all-in-one marketing tool9 reviews$49/lifetime$228Linguix - Plus exclusiveLinguix - Plus exclusivein Content marketingWrite better content faster using AI-powered corrections and suggestions137 reviews$59/lifetime$720VidTags - Plus exclusiveVidTags - Plus exclusivein VideoUse advances in AI technology to get you more views, longer watch times, better engagement and sales231 reviews$59/lifetime$1,228Branalyzer - All In One Brands Analysis Software - Plus exclusiveBranalyzer - All In One Brands Analysis Software - Plus exclusivein SEOBranalyzer is the AI-based all-in-one tool that allows obtaining detailed information on brands.255 reviews$49/lifetime$468Marketing Master IO - Plus exclusiveMarketing Master IO - Plus exclusivein Marketing managementThe all-in-one online marketing solution for your business27 reviews$57/lifetime$900PreviousNextNew arrivalsView allContextMindsContextMindsin Content marketingOrganize content ideas and AI-generated keywords on digital whiteboards43 reviews$69/lifetime$228WP CompressWP Compressin Cloud services & hostingSupercharge your site by adapting images and scripts for incoming visitors103 reviews$49/lifetime$228AlbatoAlbatoin Native app buildersBuild no-code automations between any cloud apps106 reviews$69/lifetime$192Gumlet VideoGumlet Videoin VideoUpload, optimize, and stream videos with detailed analytics in minutes34 reviews$49/lifetime$399YaaraYaarain Content marketingUse AI to generate unique, keyword-rich content for ads, emails, websites, blogs, and social media1 reviews$39/lifetime$130illowillowin PrivacyMake your website privacy compliant with a user-friendly cookie banner193 reviews$69/lifetime$468AppMySiteAppMySitein Native app buildersTurn your website into a user-friendly mobile app in minutes with an AI-powered app builder250 reviews$59/lifetime$1,404RetableRetablein ProductivityTurn your spreadsheets into smart database apps that you can securely share with your team28 reviews$49/lifetime$600GoZen Forms.AiGoZen Forms.Aiin Lead generationUse AI to build unlimited online forms, surveys, and quizzes for any use case348 reviews$69/lifetime$1,725PerkZillaPerkZillain Lead generationBecome a marketing monster using targeted campaigns and automations, not paid ads36 reviews$59/lifetime$588Artsmart.aiArtsmart.aiin Content marketingCreate unique AI-generated images to level up your brand’s marketing strategy158 reviews$49/lifetime$228Tixio - Plus exclusiveTixio - Plus exclusivein Remote collaborationCreate, organize, and share information with your team from one centralized workspace13 reviews$69/lifetime$600PreviousNextCutting-edge techView allSUPERMACHINEOffer ends in 2 daysSUPERMACHINEin Content marketingGenerate stock photos, art, and images with the latest in AI technology263 reviews$79/lifetime$420WritecreamWritecreamin SEOYour secret weapon for SEO, sales & marketing606 reviews$59/lifetime$1,440USP.ai - AI Image GeneratorOffer ends in a dayUSP.ai - AI Image Generatorin Content marketingThe only AI Image generator you will ever need31 reviews$97/lifetime$150nichesssnichesssin Content marketingGet amazing content + images + profitable ideas for any niche in 60 seconds or less288 reviews$59/lifetime$999Brain Pod AI WriterOffer ends in 3 daysBrain Pod AI Writerin Content marketingWrite thousands of SEO articles and generate unique images with one AI toolkit22 reviews$39/lifetime$360ScreenToVideoScreenToVideoin VideoRecord, edit, and share your videos with a powerful yet easy-to-use screen recorder and video editor77 reviews$59/lifetime$119NOYSINOYSIin ProductivityYour customized communications hub on your own domain107 reviews$159/lifetime$477Airbrush - AI Image GeneratorAirbrush - AI Image Generatorin Content marketingUse AI to create high-quality images and artwork in seconds217 reviews$29/lifetime$108ClariteeClariteein Marketing managementSmart design starts with a layout. Claritee is a wireframe builder for digital design projects.18 reviews$99/lifetime$504Better SheetsBetter Sheetsin StrategyOnline library of tutorials for mastering Google Sheets to solve a variety of real-world problems.107 reviews$199/lifetime$1,296Blurweb AppBlurweb Appin VideoBlur all your sensitive data on web instantly, when recording or screen sharing. No editing required124 reviews$17/lifetime$28Bit IntegrationsBit Integrationsin Development toolsConnect WordPress Plugins and external applications seamlessly to save time and simplify automations58 reviews$49/lifetime$99PreviousNextRising starsView allBeyondMeBeyondMein SEOBeyondMe helps you diagnose traffic loss & provide full SERP analysis of keywords to find weak spots22 reviews$39/lifetime$2,499PlayCode - Javascript PlaygroundPlayCode - Javascript Playgroundin Development toolsIntroducing PlayCode- Javascript Playground!  The fastest and simplest javascript playground with real-time result view and console. Learn, test and prototype easier. Top Companies are using PlayCode such as Facebook, Google, Netflix, Microsoft, and more! Javascript, Typescript, React, Vue, Tai22 reviews$99/lifetime$199ChartmatChartmatin Web buildersTransform your Google Sheets into stunning web apps and dashboards with Chartmat25 reviews$79/lifetime$264ScanlistOffer ends in 3 hoursScanlistin Lead generationOn-demand contact scraper with 20+ data points and AI-powered cold message writer24 reviews$39/lifetime$228YTubeBoosterYTubeBoosterin Media managementYTubeBooster boosts your videos' SEO, making them more visible in YouTube's algorithms.23 reviews$59/lifetime$1,200StepsyStepsyin Remote collaborationDocument your steps in no time:\n",
            "Capture SOPs, screenshot guides and share through GDrive20 reviews$29/lifetime$105Trebble Online Audio EditorTrebble Online Audio Editorin AudioEdit spoken audio or video like you were editing a word document22 reviews$69/lifetime$239.88Form Engineer Platinum - Plus exclusiveForm Engineer Platinum - Plus exclusivein Form buildersBuild beautiful forms with an intuitive drag-n-drop interface22 reviews$49/lifetime$432SelzySelzyin Email marketingA no-code email marketing service that makes selling with emails as easy as 1-2-3; free support 24/723 reviews$49/lifetime$1,260RateMyService ❤️⭐😁RateMyService ❤️⭐😁in Feedback managementThe World's Easiest Customer Feedback & Survey Solution! 3-min ⏰ Set-up ->> Just copy & paste! 🚀24 reviews$29/lifetime$1,044Musicsesame - Stock Music LibraryMusicsesame - Stock Music Libraryin Audio assetRoyalty free music for YouTube, ads, films, documentaries, podcasts, and more24 reviews$75/lifetime$159ScreenRunScreenRunin VideoWith ScreenRun, create beautiful videos from your screenshots or screen recordings in seconds24 reviews$9.99/lifetime$24.99PreviousNextAppSumo OriginalsView allSendFoxSendFoxin Email marketingCreate automated newsletter campaigns with an affordable email marketing solution190 reviews$49/lifetime$480TidyCalTidyCalin Calendar & schedulingOptimize your schedule with custom booking pages and calendar integrations246 reviews$29/lifetime$144KingSumoKingSumoin Lead generationGrow your audience with viral giveaways that cut marketing costs42 reviews$49/lifetime$228ShortySMSOffer ends in a dayShortySMSin SMSAutomate SMS and MMS marketing campaigns to engage with customers, clients, and leads27 reviews$19/lifetime$108EmailBadgeOffer ends in a dayEmailBadgein Email marketingCreate simple, beautiful, and effective email signatures in under two minutes using pre-made templates45 reviews$9/lifetime$72SleekBioOffer ends in a daySleekBioin Social mediaCreate one beautiful, simple link for your social media bio that showcases everything you have to offer57 reviews$9/lifetime$72SleekBio - Plus exclusiveSleekBio - Plus exclusivein Social mediaCreate one beautiful, simple link for your social media bio that showcases everything you have to offerTotal Downloads:5,507FREE$72ShortySMS - Plus exclusiveShortySMS - Plus exclusivein SMSAutomate SMS and MMS marketing campaigns to engage with customers, clients, and leadsTotal Downloads:5,572FREE$108SendFox - Plus exclusiveSendFox - Plus exclusivein Email marketingCreate automated newsletter campaigns with an affordable email marketing solutionTotal Downloads:9,890FREE$480KingSumo - Plus exclusiveKingSumo - Plus exclusivein Lead generationGrow your audience with viral giveaways that cut marketing costsTotal Downloads:7,743FREE$228EmailBadge - Plus exclusiveEmailBadge - Plus exclusivein Email marketingCreate simple, beautiful, and effective email signatures in under two minutes using pre-made templatesTotal Downloads:6,029FREE$72AppSumo Connect Beta - Plus exclusiveAppSumo Connect Beta - Plus exclusivein Development toolsConnect your favorite AppSumo products with popular tools and streamline your workflowTotal Downloads:4,632FREE$200PreviousNextFreebiesView allFocusmateFocusmatein ProductivityFocusmate is an online coworking platform that helps you beat distractions and get things doneTotal Downloads:876FREEAhsuite Client PortalsAhsuite Client Portalsin Customer supportShare reports, presentations, and everything else in an easy-to-use portal your clients will loveTotal Downloads:3,367FREEOrganizational Fit IndexOrganizational Fit Indexin SpreadsheetKnow if an employee is right for your business in 2 easy steps & what to do nextTotal Downloads:846FREE$50Transformative Techniques For Agency Owners – Plus exclusive MasterclassTransformative Techniques For Agency Owners – Plus exclusive Masterclassin StrategyA live masterclass with entrepreneur, Jason LongTotal Downloads:540FREE$20RowsRowsin Marketing managementTransform the way you collect, organize, and share data with a modernized spreadsheet toolTotal Downloads:3,429FREE$708Content Creation, Productivity & Entrepreneurship: In Conversation with Ali Abdaal – Plus exclusive MasterclassContent Creation, Productivity & Entrepreneurship: In Conversation with Ali Abdaal – Plus exclusive Masterclassin StrategyA masterclass with YouTuber, podcaster, and soon-to-be author Ali AbdaalTotal Downloads:1,437FREE$20Gamify Route - Tap into the Power of GamificationGamify Route - Tap into the Power of Gamificationin Lead generationImplementing gamification as a part of your marketing strategy helps drive success for your businessTotal Downloads:3,929FREEHow to Book Unlimited Meetings Using Cold Email in Just 30 min – Plus exclusive MasterclassHow to Book Unlimited Meetings Using Cold Email in Just 30 min – Plus exclusive Masterclassin General marketingA masterclass with cold email expert, Alex BermanTotal Downloads:1,153FREE$20Supercharge your lead gen with quizzes! – Plus exclusive MasterclassSupercharge your lead gen with quizzes! – Plus exclusive Masterclassin General marketingA Masterclass with quiz funnel expert, Chanti ZakTotal Downloads:1,485FREE$20YouTube for BeginnersYouTube for Beginnersin Social mediaHow to start & grow your YouTube channelTotal Downloads:2,018FREE$30AppSumo Connect Beta - Plus exclusiveAppSumo Connect Beta - Plus exclusivein Development toolsConnect your favorite AppSumo products with popular tools and streamline your workflowTotal Downloads:4,632FREE$200Million-Dollar Email Templates 2.0Million-Dollar Email Templates 2.0in Email templateGet the million-dollar emails that AppSumo used to help grow into a nine-figure businessTotal Downloads:7,931FREE$84PreviousNextPart of the Sumo family with Sendfox and TidyCalYouTubeFacebookInstagramTwitterTikTokAccountAccount overviewJoin PlusHelp centerTermsPrivacyAppSumoAboutBlogCareersAffiliatesSellAppSumo SelectList your own productCase studiesLearnHow to start an online businessWhat is the creator economy?YouTubeFacebookInstagramTwitterTikTok\n"
          ]
        }
      ],
      "source": [
        "async def async_load_playwright(url) -> str:\n",
        "    from bs4 import BeautifulSoup\n",
        "    from playwright.async_api import async_playwright\n",
        "\n",
        "    results = \"\"\n",
        "    async with async_playwright() as p:\n",
        "        browser = await p.chromium.launch(headless=True)\n",
        "        try:\n",
        "            page = await browser.new_page()\n",
        "            await page.goto(url)\n",
        "\n",
        "            page_source = await page.content()\n",
        "            soup = BeautifulSoup(page_source, \"html.parser\")\n",
        "\n",
        "            for script in soup([\"script\", \"style\"]):\n",
        "                script.extract()\n",
        "\n",
        "            text = soup.get_text()\n",
        "            lines = (line.strip() for line in text.splitlines())\n",
        "            chunks = (phrase.strip() for line in lines for phrase in line.split(\"  \"))\n",
        "            results = \"\\n\".join(chunk for chunk in chunks if chunk)\n",
        "            print(results)\n",
        "        except Exception as e:\n",
        "            results = f\"Error: {e}\"\n",
        "        await browser.close()\n",
        "    return results\n",
        "\n",
        "output = await async_load_playwright(\"https://appsumo.com\")"
      ]
    },
    {
      "cell_type": "code",
      "source": [
        "from langchain.chat_models import ChatOpenAI\n",
        "from langchain.chains import create_extraction_chain, create_extraction_chain_pydantic\n",
        "from langchain.prompts import ChatPromptTemplate\n",
        "llm = ChatOpenAI(temperature=0, model=\"gpt-3.5-turbo-0613\", openai_api_key=\"your-key\")\n",
        "schema = {\n",
        "    \"properties\": {\n",
        "        \"product_name\": {\"type\": \"string\"},\n",
        "        \"price\": {\"type\": \"integer\"},\n",
        "    },\n",
        "    \"required\": [\"product_name\", \"price\"],\n",
        "}\n",
        "chain = create_extraction_chain(schema, llm)\n",
        "chain.run(output[:3500])"
      ],
      "metadata": {
        "colab": {
          "base_uri": "https://localhost:8080/"
        },
        "id": "vWrbi4DK-hQC",
        "outputId": "277aa0ef-80d7-4f02-e0f6-c137ef34bd7b"
      },
      "execution_count": 19,
      "outputs": [
        {
          "output_type": "execute_result",
          "data": {
            "text/plain": [
              "[{'product_name': 'AirDeck', 'price': 49},\n",
              " {'product_name': 'Textmetrics SME', 'price': 49},\n",
              " {'product_name': 'Holacon', 'price': 49},\n",
              " {'product_name': 'Collabwriting', 'price': 39},\n",
              " {'product_name': 'BingBang.ai', 'price': 39},\n",
              " {'product_name': 'SurveyAnalytica', 'price': 39},\n",
              " {'product_name': 'Upgrade.chat', 'price': 49},\n",
              " {'product_name': 'Scanlist', 'price': 39},\n",
              " {'product_name': 'Power Personas', 'price': 49},\n",
              " {'product_name': 'Teachify', 'price': 39},\n",
              " {'product_name': 'USP.ai - AI Image Generator', 'price': 97},\n",
              " {'product_name': 'ShortySMS', 'price': 19},\n",
              " {'product_name': 'ShareDocView.com', 'price': 59},\n",
              " {'product_name': 'EmailBadge', 'price': 9},\n",
              " {'product_name': 'SleekBio', 'price': 9},\n",
              " {'product_name': 'Sticker Mule Custom Magnets', 'price': 9},\n",
              " {'product_name': 'Creatosaurus', 'price': 49},\n",
              " {'product_name': 'SUPERMACHINE', 'price': 79},\n",
              " {'product_name': 'Brain Pod AI Writer', 'price': 39}]"
            ]
          },
          "metadata": {},
          "execution_count": 19
        }
      ]
    },
    {
      "cell_type": "code",
      "source": [],
      "metadata": {
        "id": "5eK-Zqhs_4HK"
      },
      "execution_count": null,
      "outputs": []
    }
  ]
}